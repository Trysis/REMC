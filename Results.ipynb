{
 "cells": [
  {
   "cell_type": "markdown",
   "id": "ca07d7fc-fb9a-4b8d-ad04-22e5feb06ee2",
   "metadata": {},
   "source": [
    "# Replica Exchange Monte Carlo algorithm"
   ]
  },
  {
   "cell_type": "code",
   "execution_count": 1,
   "id": "9b8ebbdf-4940-4243-aa89-cc7e83dc4668",
   "metadata": {
    "tags": []
   },
   "outputs": [],
   "source": [
    "import numpy as np\n",
    "from re_montecarlo import *"
   ]
  },
  {
   "cell_type": "code",
   "execution_count": 3,
   "id": "65d31ee4-87fb-4ce8-92f3-34d7bc78c9e6",
   "metadata": {
    "tags": []
   },
   "outputs": [],
   "source": [
    "filename = \"./data/A0A0C5B5G6.fasta\"\n",
    "sequence = read_fasta(filename)\n",
    "hp_sequence = sequence_to_HP(sequence)\n",
    "hp_coordinates = initialize_coordinates(hp_sequence)"
   ]
  },
  {
   "cell_type": "code",
   "execution_count": 5,
   "id": "d5ad55ee-6ac1-4c80-8f93-3ff7743582df",
   "metadata": {
    "tags": []
   },
   "outputs": [
    {
     "data": {
      "text/plain": [
       "array([[ 0,  1],\n",
       "       [ 0, -1],\n",
       "       [ 2,  1],\n",
       "       [ 2, -1]])"
      ]
     },
     "execution_count": 5,
     "metadata": {},
     "output_type": "execute_result"
    }
   ],
   "source": [
    "    "
   ]
  }
 ],
 "metadata": {
  "kernelspec": {
   "display_name": "Python 3 (ipykernel)",
   "language": "python",
   "name": "python3"
  },
  "language_info": {
   "codemirror_mode": {
    "name": "ipython",
    "version": 3
   },
   "file_extension": ".py",
   "mimetype": "text/x-python",
   "name": "python",
   "nbconvert_exporter": "python",
   "pygments_lexer": "ipython3",
   "version": "3.10.6"
  }
 },
 "nbformat": 4,
 "nbformat_minor": 5
}
